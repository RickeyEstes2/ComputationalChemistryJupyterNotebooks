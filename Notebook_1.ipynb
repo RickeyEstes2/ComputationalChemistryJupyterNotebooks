{
  "nbformat": 4,
  "nbformat_minor": 0,
  "metadata": {
    "colab": {
      "provenance": [],
      "authorship_tag": "ABX9TyOTBulXar6W5XGWoCcUs/kR",
      "include_colab_link": true
    },
    "kernelspec": {
      "name": "python3",
      "display_name": "Python 3"
    },
    "language_info": {
      "name": "python"
    }
  },
  "cells": [
    {
      "cell_type": "markdown",
      "metadata": {
        "id": "view-in-github",
        "colab_type": "text"
      },
      "source": [
        "<a href=\"https://colab.research.google.com/github/RickeyEstes2/ComputationalChemistryJupyterNotebooks/blob/main/Notebook_1.ipynb\" target=\"_parent\"><img src=\"https://colab.research.google.com/assets/colab-badge.svg\" alt=\"Open In Colab\"/></a>"
      ]
    },
    {
      "cell_type": "code",
      "execution_count": null,
      "metadata": {
        "id": "Zfy2U9EEj5sa"
      },
      "outputs": [],
      "source": [
        "C = 12\n",
        "H = 1\n",
        "O = 16"
      ]
    },
    {
      "cell_type": "markdown",
      "source": [
        "# Manually Enter the Number of Moles:"
      ],
      "metadata": {
        "id": "fWv5OT-1kA3j"
      }
    },
    {
      "cell_type": "code",
      "source": [
        "input_number_C = int(print((\"\"))\n",
        "input_number_H = int(print((\"\"))\n",
        "input_number_O = int(print((\"\"))\n",
        "\n",
        "#input_number_ = int(print((\"\"))"
      ],
      "metadata": {
        "id": "VZtLT-DykI6D"
      },
      "execution_count": null,
      "outputs": []
    }
  ]
}